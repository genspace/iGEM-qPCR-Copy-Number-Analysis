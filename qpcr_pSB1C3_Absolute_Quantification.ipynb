{
 "cells": [
  {
   "cell_type": "code",
   "execution_count": 1,
   "metadata": {
    "collapsed": false
   },
   "outputs": [
    {
     "name": "stderr",
     "output_type": "stream",
     "text": [
      "/Users/bmigliozzi/anaconda/lib/python2.7/site-packages/matplotlib/font_manager.py:273: UserWarning: Matplotlib is building the font cache using fc-list. This may take a moment.\n",
      "  warnings.warn('Matplotlib is building the font cache using fc-list. This may take a moment.')\n"
     ]
    }
   ],
   "source": [
    "from IPython.display import display\n",
    "\n",
    "import pandas as pd\n",
    "import numpy as np\n",
    "\n",
    "import matplotlib\n",
    "import matplotlib.pyplot as plt\n",
    "import seaborn as sns\n",
    "sns.set_context(\"notebook\", font_scale=1)\n",
    "matplotlib.style.use('ggplot')\n",
    "%matplotlib inline \n",
    "\n",
    "\n",
    "from sklearn import linear_model\n",
    "\n",
    "\n",
    "import warnings\n",
    "warnings.filterwarnings('ignore')"
   ]
  },
  {
   "cell_type": "code",
   "execution_count": 212,
   "metadata": {
    "collapsed": false
   },
   "outputs": [],
   "source": [
    "raw = pd.read_csv('pSB1C3_qPCR.csv')\n",
    "raw['dna_lg'] = raw['dna'].apply(np.log) \n",
    "\n",
    "raw = raw[raw['set']==1]\n",
    "df_train = raw[raw['sample']!='Test']\n",
    "y_train, X_train = df_train['dna_lg'], df_train.drop(['dna_lg','dna','sample','set'], axis=1)\n",
    "\n",
    "df_test = raw[raw['sample']=='Test']\n",
    "y_test, X_test = df_test['dna_lg'], df_test.drop(['dna_lg','dna','sample','set'], axis=1)\n"
   ]
  },
  {
   "cell_type": "code",
   "execution_count": 213,
   "metadata": {
    "collapsed": false
   },
   "outputs": [
    {
     "data": {
      "text/html": [
       "<div>\n",
       "<table border=\"1\" class=\"dataframe\">\n",
       "  <thead>\n",
       "    <tr style=\"text-align: right;\">\n",
       "      <th></th>\n",
       "      <th>sample</th>\n",
       "      <th>set</th>\n",
       "      <th>dna</th>\n",
       "      <th>ct</th>\n",
       "      <th>dna_lg</th>\n",
       "    </tr>\n",
       "  </thead>\n",
       "  <tbody>\n",
       "    <tr>\n",
       "      <th>0</th>\n",
       "      <td>Std2</td>\n",
       "      <td>1</td>\n",
       "      <td>100000</td>\n",
       "      <td>21.12</td>\n",
       "      <td>11.512925</td>\n",
       "    </tr>\n",
       "    <tr>\n",
       "      <th>1</th>\n",
       "      <td>Std2</td>\n",
       "      <td>1</td>\n",
       "      <td>100000</td>\n",
       "      <td>21.05</td>\n",
       "      <td>11.512925</td>\n",
       "    </tr>\n",
       "    <tr>\n",
       "      <th>2</th>\n",
       "      <td>Std2</td>\n",
       "      <td>1</td>\n",
       "      <td>100000</td>\n",
       "      <td>21.15</td>\n",
       "      <td>11.512925</td>\n",
       "    </tr>\n",
       "    <tr>\n",
       "      <th>3</th>\n",
       "      <td>Std1</td>\n",
       "      <td>1</td>\n",
       "      <td>1000000</td>\n",
       "      <td>17.76</td>\n",
       "      <td>13.815511</td>\n",
       "    </tr>\n",
       "    <tr>\n",
       "      <th>4</th>\n",
       "      <td>Std1</td>\n",
       "      <td>1</td>\n",
       "      <td>1000000</td>\n",
       "      <td>17.81</td>\n",
       "      <td>13.815511</td>\n",
       "    </tr>\n",
       "    <tr>\n",
       "      <th>5</th>\n",
       "      <td>Std1</td>\n",
       "      <td>1</td>\n",
       "      <td>1000000</td>\n",
       "      <td>17.07</td>\n",
       "      <td>13.815511</td>\n",
       "    </tr>\n",
       "    <tr>\n",
       "      <th>6</th>\n",
       "      <td>Std0</td>\n",
       "      <td>1</td>\n",
       "      <td>10000000</td>\n",
       "      <td>15.41</td>\n",
       "      <td>16.118096</td>\n",
       "    </tr>\n",
       "    <tr>\n",
       "      <th>7</th>\n",
       "      <td>Std0</td>\n",
       "      <td>1</td>\n",
       "      <td>10000000</td>\n",
       "      <td>15.18</td>\n",
       "      <td>16.118096</td>\n",
       "    </tr>\n",
       "    <tr>\n",
       "      <th>8</th>\n",
       "      <td>Std0</td>\n",
       "      <td>1</td>\n",
       "      <td>10000000</td>\n",
       "      <td>15.45</td>\n",
       "      <td>16.118096</td>\n",
       "    </tr>\n",
       "  </tbody>\n",
       "</table>\n",
       "</div>"
      ],
      "text/plain": [
       "  sample  set       dna     ct     dna_lg\n",
       "0   Std2    1    100000  21.12  11.512925\n",
       "1   Std2    1    100000  21.05  11.512925\n",
       "2   Std2    1    100000  21.15  11.512925\n",
       "3   Std1    1   1000000  17.76  13.815511\n",
       "4   Std1    1   1000000  17.81  13.815511\n",
       "5   Std1    1   1000000  17.07  13.815511\n",
       "6   Std0    1  10000000  15.41  16.118096\n",
       "7   Std0    1  10000000  15.18  16.118096\n",
       "8   Std0    1  10000000  15.45  16.118096"
      ]
     },
     "metadata": {},
     "output_type": "display_data"
    },
    {
     "data": {
      "text/html": [
       "<div>\n",
       "<table border=\"1\" class=\"dataframe\">\n",
       "  <thead>\n",
       "    <tr style=\"text-align: right;\">\n",
       "      <th></th>\n",
       "      <th>sample</th>\n",
       "      <th>set</th>\n",
       "      <th>dna</th>\n",
       "      <th>ct</th>\n",
       "      <th>dna_lg</th>\n",
       "    </tr>\n",
       "  </thead>\n",
       "  <tbody>\n",
       "    <tr>\n",
       "      <th>9</th>\n",
       "      <td>Test</td>\n",
       "      <td>1</td>\n",
       "      <td>NaN</td>\n",
       "      <td>17.51</td>\n",
       "      <td>NaN</td>\n",
       "    </tr>\n",
       "    <tr>\n",
       "      <th>10</th>\n",
       "      <td>Test</td>\n",
       "      <td>1</td>\n",
       "      <td>NaN</td>\n",
       "      <td>16.72</td>\n",
       "      <td>NaN</td>\n",
       "    </tr>\n",
       "    <tr>\n",
       "      <th>11</th>\n",
       "      <td>Test</td>\n",
       "      <td>1</td>\n",
       "      <td>NaN</td>\n",
       "      <td>17.69</td>\n",
       "      <td>NaN</td>\n",
       "    </tr>\n",
       "  </tbody>\n",
       "</table>\n",
       "</div>"
      ],
      "text/plain": [
       "   sample  set  dna     ct  dna_lg\n",
       "9    Test    1  NaN  17.51     NaN\n",
       "10   Test    1  NaN  16.72     NaN\n",
       "11   Test    1  NaN  17.69     NaN"
      ]
     },
     "metadata": {},
     "output_type": "display_data"
    }
   ],
   "source": [
    "display(df_train)\n",
    "display(df_test)"
   ]
  },
  {
   "cell_type": "code",
   "execution_count": null,
   "metadata": {
    "collapsed": false
   },
   "outputs": [],
   "source": []
  },
  {
   "cell_type": "code",
   "execution_count": 214,
   "metadata": {
    "collapsed": false
   },
   "outputs": [
    {
     "data": {
      "text/plain": [
       "array([ 14.19718767,  14.81254464,  14.05697975])"
      ]
     },
     "metadata": {},
     "output_type": "display_data"
    },
    {
     "data": {
      "text/plain": [
       "array([-0.77893288])"
      ]
     },
     "metadata": {},
     "output_type": "display_data"
    },
    {
     "data": {
      "text/plain": [
       "27.836302385157715"
      ]
     },
     "metadata": {},
     "output_type": "display_data"
    }
   ],
   "source": [
    "lr = linear_model.LinearRegression()  \n",
    "lr.fit(X_train, y_train)\n",
    "\n",
    "display(lr.predict(X_test))\n",
    "display(lr.coef_)\n",
    "display(lr.intercept_)"
   ]
  },
  {
   "cell_type": "code",
   "execution_count": 215,
   "metadata": {
    "collapsed": false
   },
   "outputs": [
    {
     "data": {
      "text/html": [
       "<div>\n",
       "<table border=\"1\" class=\"dataframe\">\n",
       "  <thead>\n",
       "    <tr style=\"text-align: right;\">\n",
       "      <th></th>\n",
       "      <th>sample</th>\n",
       "      <th>set</th>\n",
       "      <th>dna</th>\n",
       "      <th>ct</th>\n",
       "      <th>dna_lg</th>\n",
       "    </tr>\n",
       "  </thead>\n",
       "  <tbody>\n",
       "    <tr>\n",
       "      <th>0</th>\n",
       "      <td>Std2</td>\n",
       "      <td>1</td>\n",
       "      <td>100000</td>\n",
       "      <td>21.12</td>\n",
       "      <td>11.512925</td>\n",
       "    </tr>\n",
       "    <tr>\n",
       "      <th>1</th>\n",
       "      <td>Std2</td>\n",
       "      <td>1</td>\n",
       "      <td>100000</td>\n",
       "      <td>21.05</td>\n",
       "      <td>11.512925</td>\n",
       "    </tr>\n",
       "    <tr>\n",
       "      <th>2</th>\n",
       "      <td>Std2</td>\n",
       "      <td>1</td>\n",
       "      <td>100000</td>\n",
       "      <td>21.15</td>\n",
       "      <td>11.512925</td>\n",
       "    </tr>\n",
       "    <tr>\n",
       "      <th>3</th>\n",
       "      <td>Std1</td>\n",
       "      <td>1</td>\n",
       "      <td>1000000</td>\n",
       "      <td>17.76</td>\n",
       "      <td>13.815511</td>\n",
       "    </tr>\n",
       "    <tr>\n",
       "      <th>4</th>\n",
       "      <td>Std1</td>\n",
       "      <td>1</td>\n",
       "      <td>1000000</td>\n",
       "      <td>17.81</td>\n",
       "      <td>13.815511</td>\n",
       "    </tr>\n",
       "    <tr>\n",
       "      <th>5</th>\n",
       "      <td>Std1</td>\n",
       "      <td>1</td>\n",
       "      <td>1000000</td>\n",
       "      <td>17.07</td>\n",
       "      <td>13.815511</td>\n",
       "    </tr>\n",
       "    <tr>\n",
       "      <th>6</th>\n",
       "      <td>Std0</td>\n",
       "      <td>1</td>\n",
       "      <td>10000000</td>\n",
       "      <td>15.41</td>\n",
       "      <td>16.118096</td>\n",
       "    </tr>\n",
       "    <tr>\n",
       "      <th>7</th>\n",
       "      <td>Std0</td>\n",
       "      <td>1</td>\n",
       "      <td>10000000</td>\n",
       "      <td>15.18</td>\n",
       "      <td>16.118096</td>\n",
       "    </tr>\n",
       "    <tr>\n",
       "      <th>8</th>\n",
       "      <td>Std0</td>\n",
       "      <td>1</td>\n",
       "      <td>10000000</td>\n",
       "      <td>15.45</td>\n",
       "      <td>16.118096</td>\n",
       "    </tr>\n",
       "  </tbody>\n",
       "</table>\n",
       "</div>"
      ],
      "text/plain": [
       "  sample  set       dna     ct     dna_lg\n",
       "0   Std2    1    100000  21.12  11.512925\n",
       "1   Std2    1    100000  21.05  11.512925\n",
       "2   Std2    1    100000  21.15  11.512925\n",
       "3   Std1    1   1000000  17.76  13.815511\n",
       "4   Std1    1   1000000  17.81  13.815511\n",
       "5   Std1    1   1000000  17.07  13.815511\n",
       "6   Std0    1  10000000  15.41  16.118096\n",
       "7   Std0    1  10000000  15.18  16.118096\n",
       "8   Std0    1  10000000  15.45  16.118096"
      ]
     },
     "metadata": {},
     "output_type": "display_data"
    },
    {
     "data": {
      "text/html": [
       "<div>\n",
       "<table border=\"1\" class=\"dataframe\">\n",
       "  <thead>\n",
       "    <tr style=\"text-align: right;\">\n",
       "      <th></th>\n",
       "      <th>sample</th>\n",
       "      <th>set</th>\n",
       "      <th>dna</th>\n",
       "      <th>ct</th>\n",
       "      <th>dna_lg</th>\n",
       "    </tr>\n",
       "  </thead>\n",
       "  <tbody>\n",
       "    <tr>\n",
       "      <th>9</th>\n",
       "      <td>Test</td>\n",
       "      <td>1</td>\n",
       "      <td>1464739.060422</td>\n",
       "      <td>17.51</td>\n",
       "      <td>14.197188</td>\n",
       "    </tr>\n",
       "    <tr>\n",
       "      <th>10</th>\n",
       "      <td>Test</td>\n",
       "      <td>1</td>\n",
       "      <td>2710231.581014</td>\n",
       "      <td>16.72</td>\n",
       "      <td>14.812545</td>\n",
       "    </tr>\n",
       "    <tr>\n",
       "      <th>11</th>\n",
       "      <td>Test</td>\n",
       "      <td>1</td>\n",
       "      <td>1273118.232825</td>\n",
       "      <td>17.69</td>\n",
       "      <td>14.056980</td>\n",
       "    </tr>\n",
       "  </tbody>\n",
       "</table>\n",
       "</div>"
      ],
      "text/plain": [
       "   sample  set             dna     ct     dna_lg\n",
       "9    Test    1  1464739.060422  17.51  14.197188\n",
       "10   Test    1  2710231.581014  16.72  14.812545\n",
       "11   Test    1  1273118.232825  17.69  14.056980"
      ]
     },
     "execution_count": 215,
     "metadata": {},
     "output_type": "execute_result"
    }
   ],
   "source": [
    "display(df_train)\n",
    "df_test['dna_lg'] = lr.predict(X_test)\n",
    "df_test['dna'] = np.exp(lr.predict(X_test))\n",
    "\n",
    "df_test"
   ]
  },
  {
   "cell_type": "code",
   "execution_count": 216,
   "metadata": {
    "collapsed": false
   },
   "outputs": [
    {
     "data": {
      "text/plain": [
       "<matplotlib.figure.Figure at 0x11f4c1590>"
      ]
     },
     "metadata": {},
     "output_type": "display_data"
    },
    {
     "data": {
      "image/png": "[encoded data removed]",
      "text/plain": [
       "<matplotlib.figure.Figure at 0x11de8dfd0>"
      ]
     },
     "metadata": {},
     "output_type": "display_data"
    }
   ],
   "source": [
    "plt.figure()\n",
    "ax = df_train.plot.scatter(x='ct', y='dna_lg', color='DarkBlue', label='Group 1', figsize=(8,8));\n",
    "ax = df_test.plot.scatter(x='ct', y='dna_lg', color='red', label='test', figsize=(8,8),ax=ax);\n",
    "# plt.plot(np.array(X_test), lr.predict(X_test), color='red', linewidth=3)\n"
   ]
  },
  {
   "cell_type": "code",
   "execution_count": 52,
   "metadata": {
    "collapsed": true
   },
   "outputs": [],
   "source": [
    "raw = pd.read_csv('pSB1C3_qPCR.csv')\n",
    "raw['Log Copy Number'] = raw['dna'].apply(np.log) \n",
    "raw['Cycle Threshold'] = raw['ct']\n",
    "raw = raw.drop(['ct'], axis=1)\n",
    "df_train = raw[raw['sample']!='Test']\n",
    "df_test = raw[raw['sample']=='Test']"
   ]
  },
  {
   "cell_type": "code",
   "execution_count": 58,
   "metadata": {
    "collapsed": false,
    "scrolled": false
   },
   "outputs": [
    {
     "name": "stdout",
     "output_type": "stream",
     "text": [
      "1\n",
      "('Coefficients:', array([-0.77893288]))\n",
      "('Residues:', 0.81868505973276695)\n",
      "('R Square:', 0.97426440359429145)\n"
     ]
    },
    {
     "data": {
      "text/html": [
       "<div>\n",
       "<table border=\"1\" class=\"dataframe\">\n",
       "  <thead>\n",
       "    <tr style=\"text-align: right;\">\n",
       "      <th></th>\n",
       "      <th>x</th>\n",
       "      <th>regression</th>\n",
       "    </tr>\n",
       "  </thead>\n",
       "  <tbody>\n",
       "    <tr>\n",
       "      <th>0</th>\n",
       "      <td>14.18</td>\n",
       "      <td>16.791034</td>\n",
       "    </tr>\n",
       "    <tr>\n",
       "      <th>1</th>\n",
       "      <td>22.15</td>\n",
       "      <td>10.582939</td>\n",
       "    </tr>\n",
       "  </tbody>\n",
       "</table>\n",
       "</div>"
      ],
      "text/plain": [
       "       x  regression\n",
       "0  14.18   16.791034\n",
       "1  22.15   10.582939"
      ]
     },
     "metadata": {},
     "output_type": "display_data"
    },
    {
     "name": "stdout",
     "output_type": "stream",
     "text": [
      "2\n",
      "('Coefficients:', array([-0.62612552]))\n",
      "('Residues:', 0.28125047966945776)\n",
      "('R Square:', 0.99115881162403563)\n"
     ]
    },
    {
     "data": {
      "text/html": [
       "<div>\n",
       "<table border=\"1\" class=\"dataframe\">\n",
       "  <thead>\n",
       "    <tr style=\"text-align: right;\">\n",
       "      <th></th>\n",
       "      <th>x</th>\n",
       "      <th>regression</th>\n",
       "    </tr>\n",
       "  </thead>\n",
       "  <tbody>\n",
       "    <tr>\n",
       "      <th>0</th>\n",
       "      <td>15.83</td>\n",
       "      <td>17.136759</td>\n",
       "    </tr>\n",
       "    <tr>\n",
       "      <th>1</th>\n",
       "      <td>25.82</td>\n",
       "      <td>10.881765</td>\n",
       "    </tr>\n",
       "  </tbody>\n",
       "</table>\n",
       "</div>"
      ],
      "text/plain": [
       "       x  regression\n",
       "0  15.83   17.136759\n",
       "1  25.82   10.881765"
      ]
     },
     "metadata": {},
     "output_type": "display_data"
    },
    {
     "name": "stdout",
     "output_type": "stream",
     "text": [
      "3\n",
      "('Coefficients:', array([-0.6224484]))\n",
      "('Residues:', 1.6130133294018774)\n",
      "('R Square:', 0.94929446977319309)\n"
     ]
    },
    {
     "data": {
      "text/html": [
       "<div>\n",
       "<table border=\"1\" class=\"dataframe\">\n",
       "  <thead>\n",
       "    <tr style=\"text-align: right;\">\n",
       "      <th></th>\n",
       "      <th>x</th>\n",
       "      <th>regression</th>\n",
       "    </tr>\n",
       "  </thead>\n",
       "  <tbody>\n",
       "    <tr>\n",
       "      <th>0</th>\n",
       "      <td>15.52</td>\n",
       "      <td>17.420870</td>\n",
       "    </tr>\n",
       "    <tr>\n",
       "      <th>1</th>\n",
       "      <td>26.01</td>\n",
       "      <td>10.891386</td>\n",
       "    </tr>\n",
       "  </tbody>\n",
       "</table>\n",
       "</div>"
      ],
      "text/plain": [
       "       x  regression\n",
       "0  15.52   17.420870\n",
       "1  26.01   10.891386"
      ]
     },
     "metadata": {},
     "output_type": "display_data"
    },
    {
     "name": "stdout",
     "output_type": "stream",
     "text": [
      "4\n",
      "('Coefficients:', array([-0.56717413]))\n",
      "('Residues:', 0.31862816461218901)\n",
      "('R Square:', 0.97119324566966359)\n"
     ]
    },
    {
     "data": {
      "text/html": [
       "<div>\n",
       "<table border=\"1\" class=\"dataframe\">\n",
       "  <thead>\n",
       "    <tr style=\"text-align: right;\">\n",
       "      <th></th>\n",
       "      <th>x</th>\n",
       "      <th>regression</th>\n",
       "    </tr>\n",
       "  </thead>\n",
       "  <tbody>\n",
       "    <tr>\n",
       "      <th>0</th>\n",
       "      <td>20.07</td>\n",
       "      <td>14.601039</td>\n",
       "    </tr>\n",
       "    <tr>\n",
       "      <th>1</th>\n",
       "      <td>26.95</td>\n",
       "      <td>10.698881</td>\n",
       "    </tr>\n",
       "  </tbody>\n",
       "</table>\n",
       "</div>"
      ],
      "text/plain": [
       "       x  regression\n",
       "0  20.07   14.601039\n",
       "1  26.95   10.698881"
      ]
     },
     "metadata": {},
     "output_type": "display_data"
    },
    {
     "data": {
      "text/plain": [
       "<matplotlib.figure.Figure at 0x119ed4bd0>"
      ]
     },
     "metadata": {},
     "output_type": "display_data"
    },
    {
     "data": {
      "image/png": "[encoded data removed]",
      "text/plain": [
       "<matplotlib.figure.Figure at 0x119f03310>"
      ]
     },
     "metadata": {},
     "output_type": "display_data"
    },
    {
     "data": {
      "text/plain": [
       "<matplotlib.figure.Figure at 0x11bc2e910>"
      ]
     },
     "metadata": {},
     "output_type": "display_data"
    },
    {
     "data": {
      "image/png": "[encoded data removed]",
      "text/plain": [
       "<matplotlib.figure.Figure at 0x11bd48a10>"
      ]
     },
     "metadata": {},
     "output_type": "display_data"
    },
    {
     "data": {
      "text/plain": [
       "<matplotlib.figure.Figure at 0x11b37ecd0>"
      ]
     },
     "metadata": {},
     "output_type": "display_data"
    },
    {
     "data": {
      "image/png": "[encoded data removed]",
      "text/plain": [
       "<matplotlib.figure.Figure at 0x11be07a10>"
      ]
     },
     "metadata": {},
     "output_type": "display_data"
    },
    {
     "data": {
      "text/plain": [
       "<matplotlib.figure.Figure at 0x11bfcfc10>"
      ]
     },
     "metadata": {},
     "output_type": "display_data"
    },
    {
     "data": {
      "image/png": "[encoded data removed]",
      "text/plain": [
       "<matplotlib.figure.Figure at 0x11bc75750>"
      ]
     },
     "metadata": {},
     "output_type": "display_data"
    }
   ],
   "source": [
    "dataframes = []\n",
    "\n",
    "for i in np.arange(1,5):\n",
    "    print(i)\n",
    "    df_train_cur = df_train[df_train['set']==i]\n",
    "    y_train_cur, X_train_cur = df_train_cur['Log Copy Number'], df_train_cur.drop(['Log Copy Number','dna','sample','set'], axis=1)\n",
    "    df_test_cur = df_test[df_test['set']==i]\n",
    "    y_test_cur, X_test_cur = df_test_cur['Log Copy Number'], df_test_cur.drop(['Log Copy Number','dna','sample','set'], axis=1)\n",
    "\n",
    "    lr = linear_model.LinearRegression()  \n",
    "    lr.fit(X_train_cur, y_train_cur)\n",
    "    \n",
    "    # The coefficients\n",
    "    print('Coefficients:', lr.coef_)\n",
    "    \n",
    "    # The Residues\n",
    "    print('Residues:', lr.residues_)\n",
    "    \n",
    "\n",
    "    # R Square\n",
    "    rSq = lr.score(X_train_cur, y_train_cur)\n",
    "    print('R Square:', rSq)\n",
    "        \n",
    "    df_test_cur['Log Copy Number'] = lr.predict(X_test_cur)\n",
    "    df_test_cur['dna'] = np.exp(lr.predict(X_test_cur))\n",
    "    df_comb = pd.concat([df_train_cur, df_test_cur])\n",
    "    df_comb['r2'] = lr.score(X_train_cur, y_train_cur)\n",
    "    dataframes.append(df_comb)\n",
    "    df_comb.to_csv(str(i)+'_set.csv')\n",
    "    \n",
    "    minVal = np.min(df_train_cur['Cycle Threshold'])\n",
    "    maxVal = np.max(df_train_cur['Cycle Threshold'])\n",
    "    line_df = pd.DataFrame([minVal-1,maxVal+1],columns=['x'] )\n",
    "    line_df['regression'] = lr.predict(line_df)\n",
    "    display(line_df)\n",
    "    \n",
    "    plt.figure();    \n",
    "    ax = line_df.plot(x='x',y='regression',kind='line',label='R Sq '+str(rSq)[:5],title='Absolute Quantification '+str(i));\n",
    "    ax = df_train_cur.plot.scatter(x='Cycle Threshold', y='Log Copy Number',s=80, color='DarkBlue', label='standards', figsize=(8,6),ax=ax);\n",
    "    ax = df_test_cur.plot.scatter(x='Cycle Threshold', y='Log Copy Number',s=80, color='red', label='test', figsize=(8,6),ax=ax);\n",
    "    "
   ]
  },
  {
   "cell_type": "code",
   "execution_count": null,
   "metadata": {
    "collapsed": true
   },
   "outputs": [],
   "source": []
  }
 ],
 "metadata": {
  "kernelspec": {
   "display_name": "Python 2",
   "language": "python",
   "name": "python2"
  },
  "language_info": {
   "codemirror_mode": {
    "name": "ipython",
    "version": 2
   },
   "file_extension": ".py",
   "mimetype": "text/x-python",
   "name": "python",
   "nbconvert_exporter": "python",
   "pygments_lexer": "ipython2",
   "version": "2.7.11"
  }
 },
 "nbformat": 4,
 "nbformat_minor": 0
}
